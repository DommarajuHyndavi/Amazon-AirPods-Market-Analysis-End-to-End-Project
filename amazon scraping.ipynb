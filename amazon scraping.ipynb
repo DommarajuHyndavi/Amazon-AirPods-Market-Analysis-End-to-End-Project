{
 "cells": [
  {
   "cell_type": "code",
   "execution_count": 18,
   "id": "57dc28ee",
   "metadata": {},
   "outputs": [],
   "source": [
    "from selenium import webdriver\n",
    "from selenium.webdriver.chrome.service import Service"
   ]
  },
  {
   "cell_type": "code",
   "execution_count": 19,
   "id": "00d29bc2",
   "metadata": {},
   "outputs": [],
   "source": [
    "service = Service(r\"C:\\Users\\tejas\\Downloads\\chromedriver-win64\\chromedriver-win64\\chromedriver.exe\")"
   ]
  },
  {
   "cell_type": "code",
   "execution_count": 20,
   "id": "3ac444ae",
   "metadata": {},
   "outputs": [],
   "source": [
    "driver = webdriver.Chrome(service=service)\n",
    "driver.get(\"https://www.amazon.in\")"
   ]
  },
  {
   "cell_type": "code",
   "execution_count": 21,
   "id": "18848f3c",
   "metadata": {},
   "outputs": [
    {
     "name": "stdout",
     "output_type": "stream",
     "text": [
      "Online Shopping site in India: Shop Online for Mobiles, Books, Watches, Shoes and More - Amazon.in\n"
     ]
    }
   ],
   "source": [
    "print(driver.title)   # check if browser opens\n",
    "driver.quit()"
   ]
  },
  {
   "cell_type": "code",
   "execution_count": 22,
   "id": "e71323ba",
   "metadata": {},
   "outputs": [],
   "source": [
    "from selenium import webdriver\n",
    "from selenium.webdriver.chrome.service import Service\n",
    "from selenium.webdriver.chrome.options import Options\n",
    "from selenium.webdriver.common.by import By\n",
    "from selenium.webdriver.common.keys import Keys\n",
    "from selenium.webdriver.support.ui import WebDriverWait\n",
    "from selenium.webdriver.support import expected_conditions as EC"
   ]
  },
  {
   "cell_type": "code",
   "execution_count": 23,
   "id": "9ff05801",
   "metadata": {},
   "outputs": [],
   "source": [
    "import time\n",
    "import pandas as pd"
   ]
  },
  {
   "cell_type": "code",
   "execution_count": 24,
   "id": "9dd6107d",
   "metadata": {},
   "outputs": [],
   "source": [
    "chrome_options = Options()\n",
    "chrome_options.add_argument(\"--start-maximized\")"
   ]
  },
  {
   "cell_type": "code",
   "execution_count": 25,
   "id": "84a9a238",
   "metadata": {},
   "outputs": [],
   "source": [
    "service = Service(r\"C:\\Users\\tejas\\Downloads\\chromedriver-win64\\chromedriver-win64\\chromedriver.exe\")\n",
    "driver = webdriver.Chrome(service=service, options=chrome_options)"
   ]
  },
  {
   "cell_type": "code",
   "execution_count": 26,
   "id": "a4cbb784",
   "metadata": {},
   "outputs": [],
   "source": [
    "driver.get(\"https://www.amazon.in/\")"
   ]
  },
  {
   "cell_type": "code",
   "execution_count": 27,
   "id": "8ef95323",
   "metadata": {},
   "outputs": [],
   "source": [
    "search_box = driver.find_element(By.ID, \"twotabsearchtextbox\")"
   ]
  },
  {
   "cell_type": "code",
   "execution_count": 28,
   "id": "caaaf750",
   "metadata": {},
   "outputs": [],
   "source": [
    "search_box.send_keys(\"airpods\")\n",
    "search_box.send_keys(Keys.RETURN)"
   ]
  },
  {
   "cell_type": "code",
   "execution_count": 29,
   "id": "2cb3a924",
   "metadata": {},
   "outputs": [],
   "source": [
    "time.sleep(3)"
   ]
  },
  {
   "cell_type": "code",
   "execution_count": 30,
   "id": "aaf8bb68",
   "metadata": {},
   "outputs": [],
   "source": [
    "data=[]"
   ]
  },
  {
   "cell_type": "code",
   "execution_count": 31,
   "id": "45ea1bab",
   "metadata": {},
   "outputs": [
    {
     "name": "stdout",
     "output_type": "stream",
     "text": [
      "Scraping Page 1...\n",
      "Scraping Page 2...\n",
      "Scraping Page 3...\n",
      "Scraping Page 4...\n",
      "Scraping Page 5...\n",
      "Scraping Page 6...\n",
      "Scraping Page 7...\n",
      "Scraping Page 8...\n",
      "Scraping Page 9...\n",
      "Scraping Page 10...\n",
      "Scraping Page 11...\n",
      "Scraping Page 12...\n",
      "Scraping Page 13...\n",
      "Scraping Page 14...\n",
      "Scraping Page 15...\n",
      "Scraping Page 16...\n",
      "Scraping Page 17...\n",
      "Scraping Page 18...\n",
      "Scraping Page 19...\n"
     ]
    }
   ],
   "source": [
    "for page in range(1, 20):  # Scrape 5 pages\n",
    "    print(f\"Scraping Page {page}...\")\n",
    "    time.sleep(2)\n",
    "\n",
    "    products = driver.find_elements(By.XPATH, '//div[@data-component-type=\"s-search-result\"]')\n",
    "\n",
    "    for product in products:\n",
    "        try:\n",
    "            title = product.find_element(By.TAG_NAME, \"h2\").text.strip()\n",
    "            title = title[:25] + \"...\" if len(title) > 25 else title\n",
    "        except:\n",
    "            title = \"No title\"\n",
    "        try:\n",
    "            price = product.find_element(By.CLASS_NAME, \"a-price-whole\").text.strip()\n",
    "        except:\n",
    "            price = \"No price\"\n",
    "        try:\n",
    "            rating = product.find_element(By.XPATH, './/span[contains(@class,\"a-icon-alt\")]').text.strip()\n",
    "        except:\n",
    "            rating = \"No rating\"\n",
    "        try:\n",
    "            num_reviews = product.find_element(By.XPATH, './/span[contains(@class,\"s-underline-text\")]').text.strip()\n",
    "        except:\n",
    "            num_reviews = \"0\"\n",
    "\n",
    "        data.append([title, price, rating, num_reviews])\n",
    "\n",
    "    # Wait for and click the next button safely\n",
    "    try:\n",
    "        next_button = WebDriverWait(driver, 10).until(\n",
    "            EC.element_to_be_clickable((By.XPATH, '//a[contains(@class,\"s-pagination-next\") and not(contains(@aria-disabled,\"true\"))]'))\n",
    "        )\n",
    "        driver.execute_script(\"arguments[0].scrollIntoView();\", next_button)\n",
    "        next_button.click()\n",
    "        time.sleep(3)\n",
    "    except:\n",
    "        print(\"No more pages.\")\n",
    "        break"
   ]
  },
  {
   "cell_type": "code",
   "execution_count": 32,
   "id": "204f2586",
   "metadata": {},
   "outputs": [
    {
     "name": "stdout",
     "output_type": "stream",
     "text": [
      "✅ Scraping completed. Data saved to amazon_airpods.xlsx\n"
     ]
    }
   ],
   "source": [
    "df = pd.DataFrame(data, columns=[\"Title\", \"Price\", \"Rating\", \"Number of Reviews\"])\n",
    "df.to_excel(\"azon_airpods.xlsx\", index=False)\n",
    "print(\"✅ Scraping completed. Data saved to amazon_airpods.xlsx\")"
   ]
  },
  {
   "cell_type": "code",
   "execution_count": null,
   "id": "eab64d78",
   "metadata": {},
   "outputs": [],
   "source": []
  }
 ],
 "metadata": {
  "kernelspec": {
   "display_name": "Python 3 (ipykernel)",
   "language": "python",
   "name": "python3"
  },
  "language_info": {
   "codemirror_mode": {
    "name": "ipython",
    "version": 3
   },
   "file_extension": ".py",
   "mimetype": "text/x-python",
   "name": "python",
   "nbconvert_exporter": "python",
   "pygments_lexer": "ipython3",
   "version": "3.10.9"
  }
 },
 "nbformat": 4,
 "nbformat_minor": 5
}
